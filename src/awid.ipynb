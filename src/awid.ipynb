{
 "cells": [
  {
   "cell_type": "code",
   "execution_count": 22,
   "metadata": {},
   "outputs": [
    {
     "name": "stdout",
     "output_type": "stream",
     "text": [
      "/global/u2/a/alazar/fedLearn/src\n"
     ]
    }
   ],
   "source": [
    "import pandas as pd\n",
    "import os\n",
    "cwd = os.getcwd()\n",
    "print(cwd)"
   ]
  },
  {
   "cell_type": "code",
   "execution_count": 80,
   "metadata": {},
   "outputs": [],
   "source": [
    "feat=pd.read_csv('/global/cscratch1/sd/alazar/fedLearn/inputdata/features.csv',header=None)"
   ]
  },
  {
   "cell_type": "code",
   "execution_count": 81,
   "metadata": {},
   "outputs": [
    {
     "data": {
      "text/plain": [
       "[]"
      ]
     },
     "execution_count": 81,
     "metadata": {},
     "output_type": "execute_result"
    }
   ],
   "source": [
    "checkd=feat.duplicated()\n",
    "checkd\n",
    "[i for i, x in enumerate(checkd) if x]"
   ]
  },
  {
   "cell_type": "code",
   "execution_count": 82,
   "metadata": {},
   "outputs": [],
   "source": [
    "feat=feat.T"
   ]
  },
  {
   "cell_type": "code",
   "execution_count": 83,
   "metadata": {},
   "outputs": [
    {
     "data": {
      "text/html": [
       "<div>\n",
       "<style scoped>\n",
       "    .dataframe tbody tr th:only-of-type {\n",
       "        vertical-align: middle;\n",
       "    }\n",
       "\n",
       "    .dataframe tbody tr th {\n",
       "        vertical-align: top;\n",
       "    }\n",
       "\n",
       "    .dataframe thead th {\n",
       "        text-align: right;\n",
       "    }\n",
       "</style>\n",
       "<table border=\"1\" class=\"dataframe\">\n",
       "  <thead>\n",
       "    <tr style=\"text-align: right;\">\n",
       "      <th></th>\n",
       "      <th>0</th>\n",
       "      <th>1</th>\n",
       "      <th>2</th>\n",
       "      <th>3</th>\n",
       "      <th>4</th>\n",
       "      <th>5</th>\n",
       "      <th>6</th>\n",
       "      <th>7</th>\n",
       "      <th>8</th>\n",
       "      <th>9</th>\n",
       "      <th>...</th>\n",
       "      <th>145</th>\n",
       "      <th>146</th>\n",
       "      <th>147</th>\n",
       "      <th>148</th>\n",
       "      <th>149</th>\n",
       "      <th>150</th>\n",
       "      <th>151</th>\n",
       "      <th>152</th>\n",
       "      <th>153</th>\n",
       "      <th>154</th>\n",
       "    </tr>\n",
       "  </thead>\n",
       "  <tbody>\n",
       "    <tr>\n",
       "      <th>0</th>\n",
       "      <td>frame.interface_id</td>\n",
       "      <td>frame.dlt</td>\n",
       "      <td>frame.offset_shift</td>\n",
       "      <td>frame.time_epoch</td>\n",
       "      <td>frame.time_delta</td>\n",
       "      <td>frame.time_delta_displayed</td>\n",
       "      <td>frame.time_relative</td>\n",
       "      <td>frame.len</td>\n",
       "      <td>frame.cap_len</td>\n",
       "      <td>frame.marked</td>\n",
       "      <td>...</td>\n",
       "      <td>wlan.qos.priority</td>\n",
       "      <td>wlan.qos.eosp</td>\n",
       "      <td>wlan.qos.ack</td>\n",
       "      <td>wlan.qos.amsdupresent</td>\n",
       "      <td>wlan.qos.buf_state_indicated1</td>\n",
       "      <td>wlan.qos.bit4</td>\n",
       "      <td>wlan.qos.txop_dur_req</td>\n",
       "      <td>wlan.qos.buf_state_indicated2</td>\n",
       "      <td>data.len</td>\n",
       "      <td>class</td>\n",
       "    </tr>\n",
       "  </tbody>\n",
       "</table>\n",
       "<p>1 rows × 155 columns</p>\n",
       "</div>"
      ],
      "text/plain": [
       "                  0          1                   2                 3    \\\n",
       "0  frame.interface_id  frame.dlt  frame.offset_shift  frame.time_epoch   \n",
       "\n",
       "                4                           5                    6    \\\n",
       "0  frame.time_delta  frame.time_delta_displayed  frame.time_relative   \n",
       "\n",
       "         7              8             9    ...                145  \\\n",
       "0  frame.len  frame.cap_len  frame.marked  ...  wlan.qos.priority   \n",
       "\n",
       "             146           147                    148  \\\n",
       "0  wlan.qos.eosp  wlan.qos.ack  wlan.qos.amsdupresent   \n",
       "\n",
       "                             149            150                    151  \\\n",
       "0  wlan.qos.buf_state_indicated1  wlan.qos.bit4  wlan.qos.txop_dur_req   \n",
       "\n",
       "                             152       153    154  \n",
       "0  wlan.qos.buf_state_indicated2  data.len  class  \n",
       "\n",
       "[1 rows x 155 columns]"
      ]
     },
     "execution_count": 83,
     "metadata": {},
     "output_type": "execute_result"
    }
   ],
   "source": [
    "feat"
   ]
  },
  {
   "cell_type": "code",
   "execution_count": 90,
   "metadata": {},
   "outputs": [],
   "source": [
    "f = open('/global/cscratch1/sd/alazar/fedLearn/inputdata/features.csv', 'r')\n",
    "feat = f.read().splitlines() \n",
    "f.close()"
   ]
  },
  {
   "cell_type": "code",
   "execution_count": 91,
   "metadata": {},
   "outputs": [
    {
     "data": {
      "text/plain": [
       "['frame.interface_id',\n",
       " 'frame.dlt',\n",
       " 'frame.offset_shift',\n",
       " 'frame.time_epoch',\n",
       " 'frame.time_delta',\n",
       " 'frame.time_delta_displayed',\n",
       " 'frame.time_relative',\n",
       " 'frame.len',\n",
       " 'frame.cap_len',\n",
       " 'frame.marked',\n",
       " 'frame.ignored',\n",
       " 'radiotap.version',\n",
       " 'radiotap.pad',\n",
       " 'radiotap.length',\n",
       " 'radiotap.present.tsft',\n",
       " 'radiotap.present.flags',\n",
       " 'radiotap.present.rate',\n",
       " 'radiotap.present.channel',\n",
       " 'radiotap.present.fhss',\n",
       " 'radiotap.present.dbm_antsignal',\n",
       " 'radiotap.present.dbm_antnoise',\n",
       " 'radiotap.present.lock_quality',\n",
       " 'radiotap.present.tx_attenuation',\n",
       " 'radiotap.present.db_tx_attenuation',\n",
       " 'radiotap.present.dbm_tx_power',\n",
       " 'radiotap.present.antenna',\n",
       " 'radiotap.present.db_antsignal',\n",
       " 'radiotap.present.db_antnoise',\n",
       " 'radiotap.present.rxflags',\n",
       " 'radiotap.present.xchannel',\n",
       " 'radiotap.present.mcs',\n",
       " 'radiotap.present.ampdu',\n",
       " 'radiotap.present.vht',\n",
       " 'radiotap.present.reserved',\n",
       " 'radiotap.present.rtap_ns',\n",
       " 'radiotap.present.vendor_ns',\n",
       " 'radiotap.present.ext',\n",
       " 'radiotap.mactime',\n",
       " 'radiotap.flags.cfp',\n",
       " 'radiotap.flags.preamble',\n",
       " 'radiotap.flags.wep',\n",
       " 'radiotap.flags.frag',\n",
       " 'radiotap.flags.fcs',\n",
       " 'radiotap.flags.datapad',\n",
       " 'radiotap.flags.badfcs',\n",
       " 'radiotap.flags.shortgi',\n",
       " 'radiotap.datarate',\n",
       " 'radiotap.channel.freq',\n",
       " 'radiotap.channel.type.turbo',\n",
       " 'radiotap.channel.type.cck',\n",
       " 'radiotap.channel.type.ofdm',\n",
       " 'radiotap.channel.type.2ghz',\n",
       " 'radiotap.channel.type.5ghz',\n",
       " 'radiotap.channel.type.passive',\n",
       " 'radiotap.channel.type.dynamic',\n",
       " 'radiotap.channel.type.gfsk',\n",
       " 'radiotap.channel.type.gsm',\n",
       " 'radiotap.channel.type.sturbo',\n",
       " 'radiotap.channel.type.half',\n",
       " 'radiotap.channel.type.quarter',\n",
       " 'radiotap.dbm_antsignal',\n",
       " 'radiotap.antenna',\n",
       " 'radiotap.rxflags.badplcp',\n",
       " 'wlan.fc.type_subtype',\n",
       " 'wlan.fc.version',\n",
       " 'wlan.fc.type',\n",
       " 'wlan.fc.subtype',\n",
       " 'wlan.fc.ds',\n",
       " 'wlan.fc.frag',\n",
       " 'wlan.fc.retry',\n",
       " 'wlan.fc.pwrmgt',\n",
       " 'wlan.fc.moredata',\n",
       " 'wlan.fc.protected',\n",
       " 'wlan.fc.order',\n",
       " 'wlan.duration',\n",
       " 'wlan.ra',\n",
       " 'wlan.da',\n",
       " 'wlan.ta',\n",
       " 'wlan.sa',\n",
       " 'wlan.bssid',\n",
       " 'wlan.frag',\n",
       " 'wlan.seq',\n",
       " 'wlan.bar.type',\n",
       " 'wlan.ba.control.ackpolicy',\n",
       " 'wlan.ba.control.multitid',\n",
       " 'wlan.ba.control.cbitmap',\n",
       " 'wlan.bar.compressed.tidinfo',\n",
       " 'wlan.ba.bm',\n",
       " 'wlan.fcs_good',\n",
       " 'wlan_mgt.fixed.capabilities.ess',\n",
       " 'wlan_mgt.fixed.capabilities.ibss',\n",
       " 'wlan_mgt.fixed.capabilities.cfpoll.ap',\n",
       " 'wlan_mgt.fixed.capabilities.privacy',\n",
       " 'wlan_mgt.fixed.capabilities.preamble',\n",
       " 'wlan_mgt.fixed.capabilities.pbcc',\n",
       " 'wlan_mgt.fixed.capabilities.agility',\n",
       " 'wlan_mgt.fixed.capabilities.spec_man',\n",
       " 'wlan_mgt.fixed.capabilities.short_slot_time',\n",
       " 'wlan_mgt.fixed.capabilities.apsd',\n",
       " 'wlan_mgt.fixed.capabilities.radio_measurement',\n",
       " 'wlan_mgt.fixed.capabilities.dsss_ofdm',\n",
       " 'wlan_mgt.fixed.capabilities.del_blk_ack',\n",
       " 'wlan_mgt.fixed.capabilities.imm_blk_ack',\n",
       " 'wlan_mgt.fixed.listen_ival',\n",
       " 'wlan_mgt.fixed.current_ap',\n",
       " 'wlan_mgt.fixed.status_code',\n",
       " 'wlan_mgt.fixed.timestamp',\n",
       " 'wlan_mgt.fixed.beacon',\n",
       " 'wlan_mgt.fixed.aid',\n",
       " 'wlan_mgt.fixed.reason_code',\n",
       " 'wlan_mgt.fixed.auth.alg',\n",
       " 'wlan_mgt.fixed.auth_seq',\n",
       " 'wlan_mgt.fixed.category_code',\n",
       " 'wlan_mgt.fixed.htact',\n",
       " 'wlan_mgt.fixed.chanwidth',\n",
       " 'wlan_mgt.fixed.fragment',\n",
       " 'wlan_mgt.fixed.sequence',\n",
       " 'wlan_mgt.tagged.all',\n",
       " 'wlan_mgt.ssid',\n",
       " 'wlan_mgt.ds.current_channel',\n",
       " 'wlan_mgt.tim.dtim_count',\n",
       " 'wlan_mgt.tim.dtim_period',\n",
       " 'wlan_mgt.tim.bmapctl.multicast',\n",
       " 'wlan_mgt.tim.bmapctl.offset',\n",
       " 'wlan_mgt.country_info.environment',\n",
       " 'wlan_mgt.rsn.version',\n",
       " 'wlan_mgt.rsn.gcs.type',\n",
       " 'wlan_mgt.rsn.pcs.count',\n",
       " 'wlan_mgt.rsn.akms.count',\n",
       " 'wlan_mgt.rsn.akms.type',\n",
       " 'wlan_mgt.rsn.capabilities.preauth',\n",
       " 'wlan_mgt.rsn.capabilities.no_pairwise',\n",
       " 'wlan_mgt.rsn.capabilities.ptksa_replay_counter',\n",
       " 'wlan_mgt.rsn.capabilities.gtksa_replay_counter',\n",
       " 'wlan_mgt.rsn.capabilities.mfpr',\n",
       " 'wlan_mgt.rsn.capabilities.mfpc',\n",
       " 'wlan_mgt.rsn.capabilities.peerkey',\n",
       " 'wlan_mgt.tcprep.trsmt_pow',\n",
       " 'wlan_mgt.tcprep.link_mrg',\n",
       " 'wlan.wep.iv',\n",
       " 'wlan.wep.key',\n",
       " 'wlan.wep.icv',\n",
       " 'wlan.tkip.extiv',\n",
       " 'wlan.ccmp.extiv',\n",
       " 'wlan.qos.tid',\n",
       " 'wlan.qos.priority',\n",
       " 'wlan.qos.eosp',\n",
       " 'wlan.qos.ack',\n",
       " 'wlan.qos.amsdupresent',\n",
       " 'wlan.qos.buf_state_indicated1',\n",
       " 'wlan.qos.bit4',\n",
       " 'wlan.qos.txop_dur_req',\n",
       " 'wlan.qos.buf_state_indicated2',\n",
       " 'data.len',\n",
       " 'class']"
      ]
     },
     "execution_count": 91,
     "metadata": {},
     "output_type": "execute_result"
    }
   ],
   "source": [
    "feat"
   ]
  },
  {
   "cell_type": "code",
   "execution_count": 96,
   "metadata": {},
   "outputs": [
    {
     "data": {
      "text/plain": [
       "(1795575, 155)"
      ]
     },
     "execution_count": 96,
     "metadata": {},
     "output_type": "execute_result"
    }
   ],
   "source": [
    "# import a training set\n",
    "awid = pd.read_csv(\"../data/AWID-CLS-R-Trn.csv\", header=None, names=feat,low_memory=False)\n",
    "\n",
    "# see the number of rows/columns\n",
    "awid.shape"
   ]
  },
  {
   "cell_type": "code",
   "execution_count": 97,
   "metadata": {},
   "outputs": [
    {
     "data": {
      "text/html": [
       "<div>\n",
       "<style scoped>\n",
       "    .dataframe tbody tr th:only-of-type {\n",
       "        vertical-align: middle;\n",
       "    }\n",
       "\n",
       "    .dataframe tbody tr th {\n",
       "        vertical-align: top;\n",
       "    }\n",
       "\n",
       "    .dataframe thead th {\n",
       "        text-align: right;\n",
       "    }\n",
       "</style>\n",
       "<table border=\"1\" class=\"dataframe\">\n",
       "  <thead>\n",
       "    <tr style=\"text-align: right;\">\n",
       "      <th></th>\n",
       "      <th>frame.interface_id</th>\n",
       "      <th>frame.dlt</th>\n",
       "      <th>frame.offset_shift</th>\n",
       "      <th>frame.time_epoch</th>\n",
       "      <th>frame.time_delta</th>\n",
       "      <th>frame.time_delta_displayed</th>\n",
       "      <th>frame.time_relative</th>\n",
       "      <th>frame.len</th>\n",
       "      <th>frame.cap_len</th>\n",
       "      <th>frame.marked</th>\n",
       "      <th>...</th>\n",
       "      <th>wlan.qos.priority</th>\n",
       "      <th>wlan.qos.eosp</th>\n",
       "      <th>wlan.qos.ack</th>\n",
       "      <th>wlan.qos.amsdupresent</th>\n",
       "      <th>wlan.qos.buf_state_indicated1</th>\n",
       "      <th>wlan.qos.bit4</th>\n",
       "      <th>wlan.qos.txop_dur_req</th>\n",
       "      <th>wlan.qos.buf_state_indicated2</th>\n",
       "      <th>data.len</th>\n",
       "      <th>class</th>\n",
       "    </tr>\n",
       "  </thead>\n",
       "  <tbody>\n",
       "    <tr>\n",
       "      <th>0</th>\n",
       "      <td>0</td>\n",
       "      <td>?</td>\n",
       "      <td>0.0</td>\n",
       "      <td>1.393661e+09</td>\n",
       "      <td>0.000000</td>\n",
       "      <td>0.000000</td>\n",
       "      <td>0.000000</td>\n",
       "      <td>261</td>\n",
       "      <td>261</td>\n",
       "      <td>0</td>\n",
       "      <td>...</td>\n",
       "      <td>?</td>\n",
       "      <td>?</td>\n",
       "      <td>?</td>\n",
       "      <td>?</td>\n",
       "      <td>?</td>\n",
       "      <td>?</td>\n",
       "      <td>?</td>\n",
       "      <td>?</td>\n",
       "      <td>?</td>\n",
       "      <td>normal</td>\n",
       "    </tr>\n",
       "    <tr>\n",
       "      <th>1</th>\n",
       "      <td>0</td>\n",
       "      <td>?</td>\n",
       "      <td>0.0</td>\n",
       "      <td>1.393661e+09</td>\n",
       "      <td>0.024271</td>\n",
       "      <td>0.024271</td>\n",
       "      <td>0.024271</td>\n",
       "      <td>185</td>\n",
       "      <td>185</td>\n",
       "      <td>0</td>\n",
       "      <td>...</td>\n",
       "      <td>?</td>\n",
       "      <td>?</td>\n",
       "      <td>?</td>\n",
       "      <td>?</td>\n",
       "      <td>?</td>\n",
       "      <td>?</td>\n",
       "      <td>?</td>\n",
       "      <td>?</td>\n",
       "      <td>?</td>\n",
       "      <td>normal</td>\n",
       "    </tr>\n",
       "    <tr>\n",
       "      <th>2</th>\n",
       "      <td>0</td>\n",
       "      <td>?</td>\n",
       "      <td>0.0</td>\n",
       "      <td>1.393661e+09</td>\n",
       "      <td>0.001631</td>\n",
       "      <td>0.001631</td>\n",
       "      <td>0.025902</td>\n",
       "      <td>185</td>\n",
       "      <td>185</td>\n",
       "      <td>0</td>\n",
       "      <td>...</td>\n",
       "      <td>?</td>\n",
       "      <td>?</td>\n",
       "      <td>?</td>\n",
       "      <td>?</td>\n",
       "      <td>?</td>\n",
       "      <td>?</td>\n",
       "      <td>?</td>\n",
       "      <td>?</td>\n",
       "      <td>?</td>\n",
       "      <td>normal</td>\n",
       "    </tr>\n",
       "    <tr>\n",
       "      <th>3</th>\n",
       "      <td>0</td>\n",
       "      <td>?</td>\n",
       "      <td>0.0</td>\n",
       "      <td>1.393661e+09</td>\n",
       "      <td>0.055325</td>\n",
       "      <td>0.055325</td>\n",
       "      <td>0.081227</td>\n",
       "      <td>159</td>\n",
       "      <td>159</td>\n",
       "      <td>0</td>\n",
       "      <td>...</td>\n",
       "      <td>?</td>\n",
       "      <td>?</td>\n",
       "      <td>?</td>\n",
       "      <td>?</td>\n",
       "      <td>?</td>\n",
       "      <td>?</td>\n",
       "      <td>?</td>\n",
       "      <td>?</td>\n",
       "      <td>?</td>\n",
       "      <td>normal</td>\n",
       "    </tr>\n",
       "    <tr>\n",
       "      <th>4</th>\n",
       "      <td>0</td>\n",
       "      <td>?</td>\n",
       "      <td>0.0</td>\n",
       "      <td>1.393661e+09</td>\n",
       "      <td>0.000415</td>\n",
       "      <td>0.000415</td>\n",
       "      <td>0.081642</td>\n",
       "      <td>54</td>\n",
       "      <td>54</td>\n",
       "      <td>0</td>\n",
       "      <td>...</td>\n",
       "      <td>?</td>\n",
       "      <td>?</td>\n",
       "      <td>?</td>\n",
       "      <td>?</td>\n",
       "      <td>?</td>\n",
       "      <td>?</td>\n",
       "      <td>?</td>\n",
       "      <td>?</td>\n",
       "      <td>?</td>\n",
       "      <td>normal</td>\n",
       "    </tr>\n",
       "  </tbody>\n",
       "</table>\n",
       "<p>5 rows × 155 columns</p>\n",
       "</div>"
      ],
      "text/plain": [
       "   frame.interface_id frame.dlt  frame.offset_shift  frame.time_epoch  \\\n",
       "0                   0         ?                 0.0      1.393661e+09   \n",
       "1                   0         ?                 0.0      1.393661e+09   \n",
       "2                   0         ?                 0.0      1.393661e+09   \n",
       "3                   0         ?                 0.0      1.393661e+09   \n",
       "4                   0         ?                 0.0      1.393661e+09   \n",
       "\n",
       "   frame.time_delta  frame.time_delta_displayed  frame.time_relative  \\\n",
       "0          0.000000                    0.000000             0.000000   \n",
       "1          0.024271                    0.024271             0.024271   \n",
       "2          0.001631                    0.001631             0.025902   \n",
       "3          0.055325                    0.055325             0.081227   \n",
       "4          0.000415                    0.000415             0.081642   \n",
       "\n",
       "   frame.len  frame.cap_len  frame.marked  ...  wlan.qos.priority  \\\n",
       "0        261            261             0  ...                  ?   \n",
       "1        185            185             0  ...                  ?   \n",
       "2        185            185             0  ...                  ?   \n",
       "3        159            159             0  ...                  ?   \n",
       "4         54             54             0  ...                  ?   \n",
       "\n",
       "   wlan.qos.eosp  wlan.qos.ack  wlan.qos.amsdupresent  \\\n",
       "0              ?             ?                      ?   \n",
       "1              ?             ?                      ?   \n",
       "2              ?             ?                      ?   \n",
       "3              ?             ?                      ?   \n",
       "4              ?             ?                      ?   \n",
       "\n",
       "   wlan.qos.buf_state_indicated1  wlan.qos.bit4  wlan.qos.txop_dur_req  \\\n",
       "0                              ?              ?                      ?   \n",
       "1                              ?              ?                      ?   \n",
       "2                              ?              ?                      ?   \n",
       "3                              ?              ?                      ?   \n",
       "4                              ?              ?                      ?   \n",
       "\n",
       "   wlan.qos.buf_state_indicated2  data.len   class  \n",
       "0                              ?         ?  normal  \n",
       "1                              ?         ?  normal  \n",
       "2                              ?         ?  normal  \n",
       "3                              ?         ?  normal  \n",
       "4                              ?         ?  normal  \n",
       "\n",
       "[5 rows x 155 columns]"
      ]
     },
     "execution_count": 97,
     "metadata": {},
     "output_type": "execute_result"
    }
   ],
   "source": [
    "# they use ? as a null attribute. We will eventually have to replace them with None values\n",
    "awid.head()"
   ]
  },
  {
   "cell_type": "code",
   "execution_count": 98,
   "metadata": {},
   "outputs": [
    {
     "data": {
      "text/plain": [
       "normal           0.909564\n",
       "injection        0.036411\n",
       "impersonation    0.027023\n",
       "flooding         0.027002\n",
       "Name: class, dtype: float64"
      ]
     },
     "execution_count": 98,
     "metadata": {},
     "output_type": "execute_result"
    }
   ],
   "source": [
    "# see the distribution of response vars\n",
    "awid['class'].value_counts(normalize=True)"
   ]
  },
  {
   "cell_type": "code",
   "execution_count": 99,
   "metadata": {},
   "outputs": [
    {
     "data": {
      "text/plain": [
       "frame.interface_id               0\n",
       "frame.dlt                        0\n",
       "frame.offset_shift               0\n",
       "frame.time_epoch                 0\n",
       "frame.time_delta                 0\n",
       "                                ..\n",
       "wlan.qos.bit4                    0\n",
       "wlan.qos.txop_dur_req            0\n",
       "wlan.qos.buf_state_indicated2    0\n",
       "data.len                         0\n",
       "class                            0\n",
       "Length: 155, dtype: int64"
      ]
     },
     "execution_count": 99,
     "metadata": {},
     "output_type": "execute_result"
    }
   ],
   "source": [
    "# claims there are no null values because of the ?'s'\n",
    "awid.isna().sum()"
   ]
  },
  {
   "cell_type": "code",
   "execution_count": 100,
   "metadata": {},
   "outputs": [],
   "source": [
    "# replace the ? marks with None\n",
    "awid.replace({\"?\": None}, inplace=True)"
   ]
  },
  {
   "cell_type": "code",
   "execution_count": 101,
   "metadata": {},
   "outputs": [
    {
     "data": {
      "text/plain": [
       "frame.interface_id                     0\n",
       "frame.dlt                        1795575\n",
       "frame.offset_shift                     0\n",
       "frame.time_epoch                       0\n",
       "frame.time_delta                       0\n",
       "                                  ...   \n",
       "wlan.qos.bit4                    1648935\n",
       "wlan.qos.txop_dur_req            1648935\n",
       "wlan.qos.buf_state_indicated2    1279874\n",
       "data.len                          903021\n",
       "class                                  0\n",
       "Length: 155, dtype: int64"
      ]
     },
     "execution_count": 101,
     "metadata": {},
     "output_type": "execute_result"
    }
   ],
   "source": [
    "# Many missing pieces of data!\n",
    "awid.isna().sum()"
   ]
  },
  {
   "cell_type": "code",
   "execution_count": 102,
   "metadata": {},
   "outputs": [
    {
     "data": {
      "text/plain": [
       "(72,)"
      ]
     },
     "execution_count": 102,
     "metadata": {},
     "output_type": "execute_result"
    }
   ],
   "source": [
    "# goal is to remove columns that have over 50% of missing data\n",
    "columns_with_mostly_null_data = awid.columns[awid.isnull().mean() >= 0.5]\n",
    "\n",
    "# 72 columns are going to be affected!\n",
    "columns_with_mostly_null_data.shape"
   ]
  },
  {
   "cell_type": "code",
   "execution_count": 103,
   "metadata": {},
   "outputs": [],
   "source": [
    "# drop the columns with over half missing data\n",
    "awid.drop(columns_with_mostly_null_data, axis=1, inplace=True)"
   ]
  },
  {
   "cell_type": "code",
   "execution_count": 104,
   "metadata": {},
   "outputs": [
    {
     "data": {
      "text/plain": [
       "(1795575, 83)"
      ]
     },
     "execution_count": 104,
     "metadata": {},
     "output_type": "execute_result"
    }
   ],
   "source": [
    "awid.shape"
   ]
  },
  {
   "cell_type": "code",
   "execution_count": 105,
   "metadata": {},
   "outputs": [],
   "source": [
    "# now drop the rows that have missing values\n",
    "awid.dropna(inplace=True)  # drop rows with null data"
   ]
  },
  {
   "cell_type": "code",
   "execution_count": 106,
   "metadata": {},
   "outputs": [
    {
     "data": {
      "text/plain": [
       "(1339406, 83)"
      ]
     },
     "execution_count": 106,
     "metadata": {},
     "output_type": "execute_result"
    }
   ],
   "source": [
    "# lost 456,169 rows\n",
    "awid.shape"
   ]
  },
  {
   "cell_type": "code",
   "execution_count": 107,
   "metadata": {},
   "outputs": [
    {
     "data": {
      "text/plain": [
       "normal           0.878763\n",
       "injection        0.048812\n",
       "impersonation    0.036227\n",
       "flooding         0.036198\n",
       "Name: class, dtype: float64"
      ]
     },
     "execution_count": 107,
     "metadata": {},
     "output_type": "execute_result"
    }
   ],
   "source": [
    "# doesn't affect our distribution too much\n",
    "\n",
    "# 0.878763  is our null accuracy. Our model must be better than this number to be a contender\n",
    "awid['class'].value_counts(normalize=True)"
   ]
  },
  {
   "cell_type": "code",
   "execution_count": 108,
   "metadata": {},
   "outputs": [
    {
     "data": {
      "text/plain": [
       "(1339406, 45)"
      ]
     },
     "execution_count": 108,
     "metadata": {},
     "output_type": "execute_result"
    }
   ],
   "source": [
    "# only select numerical columns for our ML algorithms, there should be more..\n",
    "awid.select_dtypes(['number']).shape"
   ]
  },
  {
   "cell_type": "code",
   "execution_count": 109,
   "metadata": {},
   "outputs": [],
   "source": [
    "# transform all columns into numerical dtypes\n",
    "for col in awid.columns:\n",
    "    awid[col] = pd.to_numeric(awid[col], errors='ignore')"
   ]
  },
  {
   "cell_type": "code",
   "execution_count": 110,
   "metadata": {},
   "outputs": [
    {
     "data": {
      "text/plain": [
       "(1339406, 74)"
      ]
     },
     "execution_count": 110,
     "metadata": {},
     "output_type": "execute_result"
    }
   ],
   "source": [
    "# that makes more sense\n",
    "awid.select_dtypes(['number']).shape"
   ]
  },
  {
   "cell_type": "code",
   "execution_count": 111,
   "metadata": {},
   "outputs": [
    {
     "data": {
      "text/html": [
       "<div>\n",
       "<style scoped>\n",
       "    .dataframe tbody tr th:only-of-type {\n",
       "        vertical-align: middle;\n",
       "    }\n",
       "\n",
       "    .dataframe tbody tr th {\n",
       "        vertical-align: top;\n",
       "    }\n",
       "\n",
       "    .dataframe thead th {\n",
       "        text-align: right;\n",
       "    }\n",
       "</style>\n",
       "<table border=\"1\" class=\"dataframe\">\n",
       "  <thead>\n",
       "    <tr style=\"text-align: right;\">\n",
       "      <th></th>\n",
       "      <th>frame.interface_id</th>\n",
       "      <th>frame.offset_shift</th>\n",
       "      <th>frame.time_epoch</th>\n",
       "      <th>frame.time_delta</th>\n",
       "      <th>frame.time_delta_displayed</th>\n",
       "      <th>frame.time_relative</th>\n",
       "      <th>frame.len</th>\n",
       "      <th>frame.cap_len</th>\n",
       "      <th>frame.marked</th>\n",
       "      <th>frame.ignored</th>\n",
       "      <th>...</th>\n",
       "      <th>wlan.fc.frag</th>\n",
       "      <th>wlan.fc.retry</th>\n",
       "      <th>wlan.fc.pwrmgt</th>\n",
       "      <th>wlan.fc.moredata</th>\n",
       "      <th>wlan.fc.protected</th>\n",
       "      <th>wlan.fc.order</th>\n",
       "      <th>wlan.duration</th>\n",
       "      <th>wlan.frag</th>\n",
       "      <th>wlan.seq</th>\n",
       "      <th>wlan.fcs_good</th>\n",
       "    </tr>\n",
       "  </thead>\n",
       "  <tbody>\n",
       "    <tr>\n",
       "      <th>count</th>\n",
       "      <td>1339406.0</td>\n",
       "      <td>1339406.0</td>\n",
       "      <td>1.339406e+06</td>\n",
       "      <td>1.339406e+06</td>\n",
       "      <td>1.339406e+06</td>\n",
       "      <td>1.339406e+06</td>\n",
       "      <td>1.339406e+06</td>\n",
       "      <td>1.339406e+06</td>\n",
       "      <td>1339406.0</td>\n",
       "      <td>1339406.0</td>\n",
       "      <td>...</td>\n",
       "      <td>1.339406e+06</td>\n",
       "      <td>1.339406e+06</td>\n",
       "      <td>1.339406e+06</td>\n",
       "      <td>1.339406e+06</td>\n",
       "      <td>1.339406e+06</td>\n",
       "      <td>1339406.0</td>\n",
       "      <td>1.339406e+06</td>\n",
       "      <td>1.339406e+06</td>\n",
       "      <td>1.339406e+06</td>\n",
       "      <td>1339406.0</td>\n",
       "    </tr>\n",
       "    <tr>\n",
       "      <th>mean</th>\n",
       "      <td>0.0</td>\n",
       "      <td>0.0</td>\n",
       "      <td>1.393663e+09</td>\n",
       "      <td>2.435200e-03</td>\n",
       "      <td>2.435200e-03</td>\n",
       "      <td>1.842787e+03</td>\n",
       "      <td>6.771728e+02</td>\n",
       "      <td>6.771728e+02</td>\n",
       "      <td>0.0</td>\n",
       "      <td>0.0</td>\n",
       "      <td>...</td>\n",
       "      <td>5.024615e-04</td>\n",
       "      <td>1.703964e-01</td>\n",
       "      <td>2.870825e-02</td>\n",
       "      <td>2.376427e-03</td>\n",
       "      <td>6.612961e-01</td>\n",
       "      <td>0.0</td>\n",
       "      <td>1.028715e+02</td>\n",
       "      <td>2.165885e-03</td>\n",
       "      <td>1.910773e+03</td>\n",
       "      <td>1.0</td>\n",
       "    </tr>\n",
       "    <tr>\n",
       "      <th>std</th>\n",
       "      <td>0.0</td>\n",
       "      <td>0.0</td>\n",
       "      <td>8.370012e+02</td>\n",
       "      <td>6.827733e-03</td>\n",
       "      <td>6.827733e-03</td>\n",
       "      <td>8.370012e+02</td>\n",
       "      <td>6.997003e+02</td>\n",
       "      <td>6.997003e+02</td>\n",
       "      <td>0.0</td>\n",
       "      <td>0.0</td>\n",
       "      <td>...</td>\n",
       "      <td>2.241003e-02</td>\n",
       "      <td>3.759808e-01</td>\n",
       "      <td>1.669853e-01</td>\n",
       "      <td>4.869067e-02</td>\n",
       "      <td>4.732692e-01</td>\n",
       "      <td>0.0</td>\n",
       "      <td>1.237048e+02</td>\n",
       "      <td>1.176732e-01</td>\n",
       "      <td>1.200198e+03</td>\n",
       "      <td>0.0</td>\n",
       "    </tr>\n",
       "    <tr>\n",
       "      <th>min</th>\n",
       "      <td>0.0</td>\n",
       "      <td>0.0</td>\n",
       "      <td>1.393661e+09</td>\n",
       "      <td>0.000000e+00</td>\n",
       "      <td>0.000000e+00</td>\n",
       "      <td>0.000000e+00</td>\n",
       "      <td>5.400000e+01</td>\n",
       "      <td>5.400000e+01</td>\n",
       "      <td>0.0</td>\n",
       "      <td>0.0</td>\n",
       "      <td>...</td>\n",
       "      <td>0.000000e+00</td>\n",
       "      <td>0.000000e+00</td>\n",
       "      <td>0.000000e+00</td>\n",
       "      <td>0.000000e+00</td>\n",
       "      <td>0.000000e+00</td>\n",
       "      <td>0.0</td>\n",
       "      <td>0.000000e+00</td>\n",
       "      <td>0.000000e+00</td>\n",
       "      <td>0.000000e+00</td>\n",
       "      <td>1.0</td>\n",
       "    </tr>\n",
       "    <tr>\n",
       "      <th>25%</th>\n",
       "      <td>0.0</td>\n",
       "      <td>0.0</td>\n",
       "      <td>1.393662e+09</td>\n",
       "      <td>4.430000e-04</td>\n",
       "      <td>4.430000e-04</td>\n",
       "      <td>1.103988e+03</td>\n",
       "      <td>9.800000e+01</td>\n",
       "      <td>9.800000e+01</td>\n",
       "      <td>0.0</td>\n",
       "      <td>0.0</td>\n",
       "      <td>...</td>\n",
       "      <td>0.000000e+00</td>\n",
       "      <td>0.000000e+00</td>\n",
       "      <td>0.000000e+00</td>\n",
       "      <td>0.000000e+00</td>\n",
       "      <td>0.000000e+00</td>\n",
       "      <td>0.0</td>\n",
       "      <td>4.400000e+01</td>\n",
       "      <td>0.000000e+00</td>\n",
       "      <td>8.410000e+02</td>\n",
       "      <td>1.0</td>\n",
       "    </tr>\n",
       "    <tr>\n",
       "      <th>50%</th>\n",
       "      <td>0.0</td>\n",
       "      <td>0.0</td>\n",
       "      <td>1.393663e+09</td>\n",
       "      <td>7.790000e-04</td>\n",
       "      <td>7.790000e-04</td>\n",
       "      <td>1.894319e+03</td>\n",
       "      <td>1.590000e+02</td>\n",
       "      <td>1.590000e+02</td>\n",
       "      <td>0.0</td>\n",
       "      <td>0.0</td>\n",
       "      <td>...</td>\n",
       "      <td>0.000000e+00</td>\n",
       "      <td>0.000000e+00</td>\n",
       "      <td>0.000000e+00</td>\n",
       "      <td>0.000000e+00</td>\n",
       "      <td>1.000000e+00</td>\n",
       "      <td>0.0</td>\n",
       "      <td>4.400000e+01</td>\n",
       "      <td>0.000000e+00</td>\n",
       "      <td>1.812000e+03</td>\n",
       "      <td>1.0</td>\n",
       "    </tr>\n",
       "    <tr>\n",
       "      <th>75%</th>\n",
       "      <td>0.0</td>\n",
       "      <td>0.0</td>\n",
       "      <td>1.393664e+09</td>\n",
       "      <td>1.393000e-03</td>\n",
       "      <td>1.393000e-03</td>\n",
       "      <td>2.374825e+03</td>\n",
       "      <td>1.552000e+03</td>\n",
       "      <td>1.552000e+03</td>\n",
       "      <td>0.0</td>\n",
       "      <td>0.0</td>\n",
       "      <td>...</td>\n",
       "      <td>0.000000e+00</td>\n",
       "      <td>0.000000e+00</td>\n",
       "      <td>0.000000e+00</td>\n",
       "      <td>0.000000e+00</td>\n",
       "      <td>1.000000e+00</td>\n",
       "      <td>0.0</td>\n",
       "      <td>2.580000e+02</td>\n",
       "      <td>0.000000e+00</td>\n",
       "      <td>2.941000e+03</td>\n",
       "      <td>1.0</td>\n",
       "    </tr>\n",
       "    <tr>\n",
       "      <th>max</th>\n",
       "      <td>0.0</td>\n",
       "      <td>0.0</td>\n",
       "      <td>1.393665e+09</td>\n",
       "      <td>3.502630e-01</td>\n",
       "      <td>3.502630e-01</td>\n",
       "      <td>3.599571e+03</td>\n",
       "      <td>1.570000e+03</td>\n",
       "      <td>1.570000e+03</td>\n",
       "      <td>0.0</td>\n",
       "      <td>0.0</td>\n",
       "      <td>...</td>\n",
       "      <td>1.000000e+00</td>\n",
       "      <td>1.000000e+00</td>\n",
       "      <td>1.000000e+00</td>\n",
       "      <td>1.000000e+00</td>\n",
       "      <td>1.000000e+00</td>\n",
       "      <td>0.0</td>\n",
       "      <td>3.200000e+02</td>\n",
       "      <td>1.200000e+01</td>\n",
       "      <td>4.095000e+03</td>\n",
       "      <td>1.0</td>\n",
       "    </tr>\n",
       "  </tbody>\n",
       "</table>\n",
       "<p>8 rows × 74 columns</p>\n",
       "</div>"
      ],
      "text/plain": [
       "       frame.interface_id  frame.offset_shift  frame.time_epoch  \\\n",
       "count           1339406.0           1339406.0      1.339406e+06   \n",
       "mean                  0.0                 0.0      1.393663e+09   \n",
       "std                   0.0                 0.0      8.370012e+02   \n",
       "min                   0.0                 0.0      1.393661e+09   \n",
       "25%                   0.0                 0.0      1.393662e+09   \n",
       "50%                   0.0                 0.0      1.393663e+09   \n",
       "75%                   0.0                 0.0      1.393664e+09   \n",
       "max                   0.0                 0.0      1.393665e+09   \n",
       "\n",
       "       frame.time_delta  frame.time_delta_displayed  frame.time_relative  \\\n",
       "count      1.339406e+06                1.339406e+06         1.339406e+06   \n",
       "mean       2.435200e-03                2.435200e-03         1.842787e+03   \n",
       "std        6.827733e-03                6.827733e-03         8.370012e+02   \n",
       "min        0.000000e+00                0.000000e+00         0.000000e+00   \n",
       "25%        4.430000e-04                4.430000e-04         1.103988e+03   \n",
       "50%        7.790000e-04                7.790000e-04         1.894319e+03   \n",
       "75%        1.393000e-03                1.393000e-03         2.374825e+03   \n",
       "max        3.502630e-01                3.502630e-01         3.599571e+03   \n",
       "\n",
       "          frame.len  frame.cap_len  frame.marked  frame.ignored  ...  \\\n",
       "count  1.339406e+06   1.339406e+06     1339406.0      1339406.0  ...   \n",
       "mean   6.771728e+02   6.771728e+02           0.0            0.0  ...   \n",
       "std    6.997003e+02   6.997003e+02           0.0            0.0  ...   \n",
       "min    5.400000e+01   5.400000e+01           0.0            0.0  ...   \n",
       "25%    9.800000e+01   9.800000e+01           0.0            0.0  ...   \n",
       "50%    1.590000e+02   1.590000e+02           0.0            0.0  ...   \n",
       "75%    1.552000e+03   1.552000e+03           0.0            0.0  ...   \n",
       "max    1.570000e+03   1.570000e+03           0.0            0.0  ...   \n",
       "\n",
       "       wlan.fc.frag  wlan.fc.retry  wlan.fc.pwrmgt  wlan.fc.moredata  \\\n",
       "count  1.339406e+06   1.339406e+06    1.339406e+06      1.339406e+06   \n",
       "mean   5.024615e-04   1.703964e-01    2.870825e-02      2.376427e-03   \n",
       "std    2.241003e-02   3.759808e-01    1.669853e-01      4.869067e-02   \n",
       "min    0.000000e+00   0.000000e+00    0.000000e+00      0.000000e+00   \n",
       "25%    0.000000e+00   0.000000e+00    0.000000e+00      0.000000e+00   \n",
       "50%    0.000000e+00   0.000000e+00    0.000000e+00      0.000000e+00   \n",
       "75%    0.000000e+00   0.000000e+00    0.000000e+00      0.000000e+00   \n",
       "max    1.000000e+00   1.000000e+00    1.000000e+00      1.000000e+00   \n",
       "\n",
       "       wlan.fc.protected  wlan.fc.order  wlan.duration     wlan.frag  \\\n",
       "count       1.339406e+06      1339406.0   1.339406e+06  1.339406e+06   \n",
       "mean        6.612961e-01            0.0   1.028715e+02  2.165885e-03   \n",
       "std         4.732692e-01            0.0   1.237048e+02  1.176732e-01   \n",
       "min         0.000000e+00            0.0   0.000000e+00  0.000000e+00   \n",
       "25%         0.000000e+00            0.0   4.400000e+01  0.000000e+00   \n",
       "50%         1.000000e+00            0.0   4.400000e+01  0.000000e+00   \n",
       "75%         1.000000e+00            0.0   2.580000e+02  0.000000e+00   \n",
       "max         1.000000e+00            0.0   3.200000e+02  1.200000e+01   \n",
       "\n",
       "           wlan.seq  wlan.fcs_good  \n",
       "count  1.339406e+06      1339406.0  \n",
       "mean   1.910773e+03            1.0  \n",
       "std    1.200198e+03            0.0  \n",
       "min    0.000000e+00            1.0  \n",
       "25%    8.410000e+02            1.0  \n",
       "50%    1.812000e+03            1.0  \n",
       "75%    2.941000e+03            1.0  \n",
       "max    4.095000e+03            1.0  \n",
       "\n",
       "[8 rows x 74 columns]"
      ]
     },
     "execution_count": 111,
     "metadata": {},
     "output_type": "execute_result"
    }
   ],
   "source": [
    "# basic descroptive statistics\n",
    "awid.describe()"
   ]
  },
  {
   "cell_type": "code",
   "execution_count": 112,
   "metadata": {},
   "outputs": [],
   "source": [
    "X, y = awid.select_dtypes(['number']), awid['class']"
   ]
  },
  {
   "cell_type": "code",
   "execution_count": 139,
   "metadata": {},
   "outputs": [],
   "source": [
    "import pickle\n",
    "with open('/global/cscratch1/sd/alazar/fedLearn/pfile/train.pk', 'wb') as f:\n",
    "    pickle.dump([X,y], f)"
   ]
  },
  {
   "cell_type": "code",
   "execution_count": 114,
   "metadata": {},
   "outputs": [
    {
     "data": {
      "text/plain": [
       "GaussianNB(priors=None, var_smoothing=1e-09)"
      ]
     },
     "execution_count": 114,
     "metadata": {},
     "output_type": "execute_result"
    }
   ],
   "source": [
    "# do a basic naive bayes fitting\n",
    "from sklearn.naive_bayes import GaussianNB\n",
    "\n",
    "nb = GaussianNB()\n",
    "\n",
    "# fit our model to the data\n",
    "nb.fit(X, y)"
   ]
  },
  {
   "cell_type": "code",
   "execution_count": 116,
   "metadata": {},
   "outputs": [
    {
     "data": {
      "text/plain": [
       "(389185, 83)"
      ]
     },
     "execution_count": 116,
     "metadata": {},
     "output_type": "execute_result"
    }
   ],
   "source": [
    "# read in the test data and do the same transformations to it to match the training data\n",
    "awid_test = pd.read_csv('/global/cscratch1/sd/alazar/fedLearn/inputdata/AWID-CLS-R-Tst.csv', header=None, names=feat,low_memory=False)\n",
    "# drop the problematic columns\n",
    "awid_test.drop(columns_with_mostly_null_data, axis=1, inplace=True)\n",
    "# replace ? with None\n",
    "awid_test.replace({\"?\": None}, inplace=True)\n",
    "# drop the rows with null data\n",
    "awid_test.dropna(inplace=True)  # drop rows with null data\n",
    "# convert columns to numerical values\n",
    "for col in awid_test.columns:\n",
    "    awid_test[col] = pd.to_numeric(awid_test[col], errors='ignore')\n",
    "awid_test.shape"
   ]
  },
  {
   "cell_type": "code",
   "execution_count": 117,
   "metadata": {},
   "outputs": [
    {
     "data": {
      "text/html": [
       "<div>\n",
       "<style scoped>\n",
       "    .dataframe tbody tr th:only-of-type {\n",
       "        vertical-align: middle;\n",
       "    }\n",
       "\n",
       "    .dataframe tbody tr th {\n",
       "        vertical-align: top;\n",
       "    }\n",
       "\n",
       "    .dataframe thead th {\n",
       "        text-align: right;\n",
       "    }\n",
       "</style>\n",
       "<table border=\"1\" class=\"dataframe\">\n",
       "  <thead>\n",
       "    <tr style=\"text-align: right;\">\n",
       "      <th></th>\n",
       "      <th>frame.interface_id</th>\n",
       "      <th>frame.offset_shift</th>\n",
       "      <th>frame.time_epoch</th>\n",
       "      <th>frame.time_delta</th>\n",
       "      <th>frame.time_delta_displayed</th>\n",
       "      <th>frame.time_relative</th>\n",
       "      <th>frame.len</th>\n",
       "      <th>frame.cap_len</th>\n",
       "      <th>frame.marked</th>\n",
       "      <th>frame.ignored</th>\n",
       "      <th>...</th>\n",
       "      <th>wlan.duration</th>\n",
       "      <th>wlan.ra</th>\n",
       "      <th>wlan.da</th>\n",
       "      <th>wlan.ta</th>\n",
       "      <th>wlan.sa</th>\n",
       "      <th>wlan.bssid</th>\n",
       "      <th>wlan.frag</th>\n",
       "      <th>wlan.seq</th>\n",
       "      <th>wlan.fcs_good</th>\n",
       "      <th>class</th>\n",
       "    </tr>\n",
       "  </thead>\n",
       "  <tbody>\n",
       "    <tr>\n",
       "      <th>0</th>\n",
       "      <td>0</td>\n",
       "      <td>0.0</td>\n",
       "      <td>1.393668e+09</td>\n",
       "      <td>0.000000</td>\n",
       "      <td>0.000000</td>\n",
       "      <td>0.000000</td>\n",
       "      <td>1552</td>\n",
       "      <td>1552</td>\n",
       "      <td>0</td>\n",
       "      <td>0</td>\n",
       "      <td>...</td>\n",
       "      <td>44</td>\n",
       "      <td>c0:18:85:94:b6:55</td>\n",
       "      <td>c0:18:85:94:b6:55</td>\n",
       "      <td>28:c6:8e:86:d3:d6</td>\n",
       "      <td>00:13:33:87:62:6d</td>\n",
       "      <td>28:c6:8e:86:d3:d6</td>\n",
       "      <td>0</td>\n",
       "      <td>2313</td>\n",
       "      <td>1</td>\n",
       "      <td>normal</td>\n",
       "    </tr>\n",
       "    <tr>\n",
       "      <th>1</th>\n",
       "      <td>0</td>\n",
       "      <td>0.0</td>\n",
       "      <td>1.393668e+09</td>\n",
       "      <td>0.001056</td>\n",
       "      <td>0.001056</td>\n",
       "      <td>0.001056</td>\n",
       "      <td>1552</td>\n",
       "      <td>1552</td>\n",
       "      <td>0</td>\n",
       "      <td>0</td>\n",
       "      <td>...</td>\n",
       "      <td>44</td>\n",
       "      <td>c0:18:85:94:b6:55</td>\n",
       "      <td>c0:18:85:94:b6:55</td>\n",
       "      <td>28:c6:8e:86:d3:d6</td>\n",
       "      <td>00:13:33:87:62:6d</td>\n",
       "      <td>28:c6:8e:86:d3:d6</td>\n",
       "      <td>0</td>\n",
       "      <td>2314</td>\n",
       "      <td>1</td>\n",
       "      <td>normal</td>\n",
       "    </tr>\n",
       "    <tr>\n",
       "      <th>4</th>\n",
       "      <td>0</td>\n",
       "      <td>0.0</td>\n",
       "      <td>1.393668e+09</td>\n",
       "      <td>0.001842</td>\n",
       "      <td>0.001842</td>\n",
       "      <td>0.003195</td>\n",
       "      <td>1552</td>\n",
       "      <td>1552</td>\n",
       "      <td>0</td>\n",
       "      <td>0</td>\n",
       "      <td>...</td>\n",
       "      <td>44</td>\n",
       "      <td>c0:18:85:94:b6:55</td>\n",
       "      <td>c0:18:85:94:b6:55</td>\n",
       "      <td>28:c6:8e:86:d3:d6</td>\n",
       "      <td>00:13:33:87:62:6d</td>\n",
       "      <td>28:c6:8e:86:d3:d6</td>\n",
       "      <td>0</td>\n",
       "      <td>2318</td>\n",
       "      <td>1</td>\n",
       "      <td>normal</td>\n",
       "    </tr>\n",
       "    <tr>\n",
       "      <th>5</th>\n",
       "      <td>0</td>\n",
       "      <td>0.0</td>\n",
       "      <td>1.393668e+09</td>\n",
       "      <td>0.006015</td>\n",
       "      <td>0.006015</td>\n",
       "      <td>0.009210</td>\n",
       "      <td>1552</td>\n",
       "      <td>1552</td>\n",
       "      <td>0</td>\n",
       "      <td>0</td>\n",
       "      <td>...</td>\n",
       "      <td>44</td>\n",
       "      <td>c0:18:85:94:b6:55</td>\n",
       "      <td>c0:18:85:94:b6:55</td>\n",
       "      <td>28:c6:8e:86:d3:d6</td>\n",
       "      <td>00:13:33:87:62:6d</td>\n",
       "      <td>28:c6:8e:86:d3:d6</td>\n",
       "      <td>0</td>\n",
       "      <td>2328</td>\n",
       "      <td>1</td>\n",
       "      <td>normal</td>\n",
       "    </tr>\n",
       "    <tr>\n",
       "      <th>6</th>\n",
       "      <td>0</td>\n",
       "      <td>0.0</td>\n",
       "      <td>1.393668e+09</td>\n",
       "      <td>0.000940</td>\n",
       "      <td>0.000940</td>\n",
       "      <td>0.010150</td>\n",
       "      <td>1552</td>\n",
       "      <td>1552</td>\n",
       "      <td>0</td>\n",
       "      <td>0</td>\n",
       "      <td>...</td>\n",
       "      <td>44</td>\n",
       "      <td>c0:18:85:94:b6:55</td>\n",
       "      <td>c0:18:85:94:b6:55</td>\n",
       "      <td>28:c6:8e:86:d3:d6</td>\n",
       "      <td>00:13:33:87:62:6d</td>\n",
       "      <td>28:c6:8e:86:d3:d6</td>\n",
       "      <td>0</td>\n",
       "      <td>2330</td>\n",
       "      <td>1</td>\n",
       "      <td>normal</td>\n",
       "    </tr>\n",
       "  </tbody>\n",
       "</table>\n",
       "<p>5 rows × 83 columns</p>\n",
       "</div>"
      ],
      "text/plain": [
       "   frame.interface_id  frame.offset_shift  frame.time_epoch  frame.time_delta  \\\n",
       "0                   0                 0.0      1.393668e+09          0.000000   \n",
       "1                   0                 0.0      1.393668e+09          0.001056   \n",
       "4                   0                 0.0      1.393668e+09          0.001842   \n",
       "5                   0                 0.0      1.393668e+09          0.006015   \n",
       "6                   0                 0.0      1.393668e+09          0.000940   \n",
       "\n",
       "   frame.time_delta_displayed  frame.time_relative  frame.len  frame.cap_len  \\\n",
       "0                    0.000000             0.000000       1552           1552   \n",
       "1                    0.001056             0.001056       1552           1552   \n",
       "4                    0.001842             0.003195       1552           1552   \n",
       "5                    0.006015             0.009210       1552           1552   \n",
       "6                    0.000940             0.010150       1552           1552   \n",
       "\n",
       "   frame.marked  frame.ignored  ...  wlan.duration            wlan.ra  \\\n",
       "0             0              0  ...             44  c0:18:85:94:b6:55   \n",
       "1             0              0  ...             44  c0:18:85:94:b6:55   \n",
       "4             0              0  ...             44  c0:18:85:94:b6:55   \n",
       "5             0              0  ...             44  c0:18:85:94:b6:55   \n",
       "6             0              0  ...             44  c0:18:85:94:b6:55   \n",
       "\n",
       "             wlan.da            wlan.ta            wlan.sa         wlan.bssid  \\\n",
       "0  c0:18:85:94:b6:55  28:c6:8e:86:d3:d6  00:13:33:87:62:6d  28:c6:8e:86:d3:d6   \n",
       "1  c0:18:85:94:b6:55  28:c6:8e:86:d3:d6  00:13:33:87:62:6d  28:c6:8e:86:d3:d6   \n",
       "4  c0:18:85:94:b6:55  28:c6:8e:86:d3:d6  00:13:33:87:62:6d  28:c6:8e:86:d3:d6   \n",
       "5  c0:18:85:94:b6:55  28:c6:8e:86:d3:d6  00:13:33:87:62:6d  28:c6:8e:86:d3:d6   \n",
       "6  c0:18:85:94:b6:55  28:c6:8e:86:d3:d6  00:13:33:87:62:6d  28:c6:8e:86:d3:d6   \n",
       "\n",
       "   wlan.frag  wlan.seq  wlan.fcs_good   class  \n",
       "0          0      2313              1  normal  \n",
       "1          0      2314              1  normal  \n",
       "4          0      2318              1  normal  \n",
       "5          0      2328              1  normal  \n",
       "6          0      2330              1  normal  \n",
       "\n",
       "[5 rows x 83 columns]"
      ]
     },
     "execution_count": 117,
     "metadata": {},
     "output_type": "execute_result"
    }
   ],
   "source": [
    "awid_test.head()"
   ]
  },
  {
   "cell_type": "code",
   "execution_count": 118,
   "metadata": {},
   "outputs": [],
   "source": [
    "# basic metric, accuracy\n",
    "from sklearn.metrics import accuracy_score"
   ]
  },
  {
   "cell_type": "code",
   "execution_count": 119,
   "metadata": {},
   "outputs": [
    {
     "data": {
      "text/plain": [
       "0.26535452291326744"
      ]
     },
     "execution_count": 119,
     "metadata": {},
     "output_type": "execute_result"
    }
   ],
   "source": [
    "X_test = awid_test.select_dtypes(['number'])\n",
    "y_test = awid_test['class']\n",
    "\n",
    "# simple function to test the accuracy of a model fitted on training data on our testing data\n",
    "def get_test_accuracy_of(model):\n",
    "    y_preds = model.predict(X_test)\n",
    "    return accuracy_score(y_preds, y_test)\n",
    "    \n",
    "# naive abyes does very poorly on its own!\n",
    "get_test_accuracy_of(nb)"
   ]
  },
  {
   "cell_type": "code",
   "execution_count": 140,
   "metadata": {},
   "outputs": [],
   "source": [
    "with open('/global/cscratch1/sd/alazar/fedLearn/pfile/test.pk', 'wb') as f:\n",
    "    pickle.dump([X_test,y_test], f)"
   ]
  },
  {
   "cell_type": "code",
   "execution_count": 120,
   "metadata": {},
   "outputs": [
    {
     "name": "stderr",
     "output_type": "stream",
     "text": [
      "/global/homes/a/alazar/.conda/envs/fedenv/lib/python3.7/site-packages/sklearn/linear_model/logistic.py:432: FutureWarning: Default solver will be changed to 'lbfgs' in 0.22. Specify a solver to silence this warning.\n",
      "  FutureWarning)\n",
      "/global/homes/a/alazar/.conda/envs/fedenv/lib/python3.7/site-packages/sklearn/linear_model/logistic.py:469: FutureWarning: Default multi_class will be changed to 'auto' in 0.22. Specify the multi_class option to silence this warning.\n",
      "  \"this warning.\", FutureWarning)\n"
     ]
    },
    {
     "data": {
      "text/plain": [
       "0.015773989233911892"
      ]
     },
     "execution_count": 120,
     "metadata": {},
     "output_type": "execute_result"
    }
   ],
   "source": [
    "from sklearn.linear_model import LogisticRegression\n",
    "\n",
    "lr = LogisticRegression()\n",
    "\n",
    "lr.fit(X, y)\n",
    "\n",
    "# Logistic Regressions does even worse\n",
    "get_test_accuracy_of(lr)"
   ]
  },
  {
   "cell_type": "code",
   "execution_count": 121,
   "metadata": {},
   "outputs": [
    {
     "data": {
      "text/plain": [
       "0.934023664838059"
      ]
     },
     "execution_count": 121,
     "metadata": {},
     "output_type": "execute_result"
    }
   ],
   "source": [
    "from sklearn.tree import DecisionTreeClassifier\n",
    "\n",
    "tree = DecisionTreeClassifier()\n",
    "\n",
    "tree.fit(X, y)\n",
    "\n",
    "# Tree does very well!\n",
    "get_test_accuracy_of(tree)"
   ]
  },
  {
   "cell_type": "code",
   "execution_count": 122,
   "metadata": {},
   "outputs": [
    {
     "data": {
      "text/html": [
       "<div>\n",
       "<style scoped>\n",
       "    .dataframe tbody tr th:only-of-type {\n",
       "        vertical-align: middle;\n",
       "    }\n",
       "\n",
       "    .dataframe tbody tr th {\n",
       "        vertical-align: top;\n",
       "    }\n",
       "\n",
       "    .dataframe thead th {\n",
       "        text-align: right;\n",
       "    }\n",
       "</style>\n",
       "<table border=\"1\" class=\"dataframe\">\n",
       "  <thead>\n",
       "    <tr style=\"text-align: right;\">\n",
       "      <th></th>\n",
       "      <th>feature</th>\n",
       "      <th>importance</th>\n",
       "    </tr>\n",
       "  </thead>\n",
       "  <tbody>\n",
       "    <tr>\n",
       "      <th>4</th>\n",
       "      <td>frame.time_delta_displayed</td>\n",
       "      <td>0.221155</td>\n",
       "    </tr>\n",
       "    <tr>\n",
       "      <th>6</th>\n",
       "      <td>frame.len</td>\n",
       "      <td>0.197393</td>\n",
       "    </tr>\n",
       "    <tr>\n",
       "      <th>68</th>\n",
       "      <td>wlan.fc.protected</td>\n",
       "      <td>0.145766</td>\n",
       "    </tr>\n",
       "    <tr>\n",
       "      <th>70</th>\n",
       "      <td>wlan.duration</td>\n",
       "      <td>0.127600</td>\n",
       "    </tr>\n",
       "    <tr>\n",
       "      <th>7</th>\n",
       "      <td>frame.cap_len</td>\n",
       "      <td>0.092752</td>\n",
       "    </tr>\n",
       "    <tr>\n",
       "      <th>5</th>\n",
       "      <td>frame.time_relative</td>\n",
       "      <td>0.082126</td>\n",
       "    </tr>\n",
       "    <tr>\n",
       "      <th>62</th>\n",
       "      <td>wlan.fc.type</td>\n",
       "      <td>0.040173</td>\n",
       "    </tr>\n",
       "    <tr>\n",
       "      <th>72</th>\n",
       "      <td>wlan.seq</td>\n",
       "      <td>0.026933</td>\n",
       "    </tr>\n",
       "    <tr>\n",
       "      <th>65</th>\n",
       "      <td>wlan.fc.retry</td>\n",
       "      <td>0.019813</td>\n",
       "    </tr>\n",
       "    <tr>\n",
       "      <th>58</th>\n",
       "      <td>radiotap.dbm_antsignal</td>\n",
       "      <td>0.014189</td>\n",
       "    </tr>\n",
       "  </tbody>\n",
       "</table>\n",
       "</div>"
      ],
      "text/plain": [
       "                       feature  importance\n",
       "4   frame.time_delta_displayed    0.221155\n",
       "6                    frame.len    0.197393\n",
       "68           wlan.fc.protected    0.145766\n",
       "70               wlan.duration    0.127600\n",
       "7                frame.cap_len    0.092752\n",
       "5          frame.time_relative    0.082126\n",
       "62                wlan.fc.type    0.040173\n",
       "72                    wlan.seq    0.026933\n",
       "65               wlan.fc.retry    0.019813\n",
       "58      radiotap.dbm_antsignal    0.014189"
      ]
     },
     "execution_count": 122,
     "metadata": {},
     "output_type": "execute_result"
    }
   ],
   "source": [
    "# see gini scores of decision tree features\n",
    "pd.DataFrame({'feature':awid.select_dtypes(['number']).columns, \n",
    "              'importance':tree.feature_importances_}).sort_values('importance', ascending=False).head(10)"
   ]
  },
  {
   "cell_type": "code",
   "execution_count": 123,
   "metadata": {},
   "outputs": [
    {
     "name": "stderr",
     "output_type": "stream",
     "text": [
      "/global/homes/a/alazar/.conda/envs/fedenv/lib/python3.7/site-packages/sklearn/ensemble/forest.py:245: FutureWarning: The default value of n_estimators will change from 10 in version 0.20 to 100 in 0.22.\n",
      "  \"10 in version 0.20 to 100 in 0.22.\", FutureWarning)\n"
     ]
    },
    {
     "data": {
      "text/plain": [
       "0.9352955535285276"
      ]
     },
     "execution_count": 123,
     "metadata": {},
     "output_type": "execute_result"
    }
   ],
   "source": [
    "from sklearn.ensemble import RandomForestClassifier\n",
    "\n",
    "forest = RandomForestClassifier()\n",
    "\n",
    "forest.fit(X, y)\n",
    "\n",
    "# Random Forest does slightly worse\n",
    "get_test_accuracy_of(forest)"
   ]
  },
  {
   "cell_type": "code",
   "execution_count": 124,
   "metadata": {},
   "outputs": [
    {
     "name": "stderr",
     "output_type": "stream",
     "text": [
      "/global/homes/a/alazar/.conda/envs/fedenv/lib/python3.7/site-packages/sklearn/model_selection/_split.py:1978: FutureWarning: The default value of cv will change from 3 to 5 in version 0.22. Specify it explicitly to silence this warning.\n",
      "  warnings.warn(CV_WARNING, FutureWarning)\n"
     ]
    },
    {
     "data": {
      "text/plain": [
       "0.9254621837943394"
      ]
     },
     "execution_count": 124,
     "metadata": {},
     "output_type": "execute_result"
    }
   ],
   "source": [
    "# Create a pipeline that will scale the numerical data and then feed the resulting data into a decision tree\n",
    "\n",
    "from sklearn.pipeline import Pipeline\n",
    "from sklearn.preprocessing import StandardScaler\n",
    "from sklearn.model_selection import GridSearchCV\n",
    "\n",
    "preprocessing = Pipeline([\n",
    "    (\"scale\", StandardScaler()),\n",
    "])\n",
    "\n",
    "pipeline = Pipeline([\n",
    "    (\"preprocessing\", preprocessing),\n",
    "    (\"classifier\", DecisionTreeClassifier())\n",
    "])\n",
    "\n",
    "# try varying levels of depth\n",
    "params = {\n",
    "    \"classifier__max_depth\": [None, 3, 5, 10], \n",
    "         }\n",
    "\n",
    "# instantiate a gridsearch module\n",
    "grid = GridSearchCV(pipeline, params)\n",
    "# fit the module\n",
    "grid.fit(X, y)\n",
    "\n",
    "# test the best model\n",
    "get_test_accuracy_of(grid.best_estimator_)"
   ]
  },
  {
   "cell_type": "code",
   "execution_count": 125,
   "metadata": {},
   "outputs": [
    {
     "name": "stderr",
     "output_type": "stream",
     "text": [
      "/global/homes/a/alazar/.conda/envs/fedenv/lib/python3.7/site-packages/sklearn/model_selection/_split.py:1978: FutureWarning: The default value of cv will change from 3 to 5 in version 0.22. Specify it explicitly to silence this warning.\n",
      "  warnings.warn(CV_WARNING, FutureWarning)\n",
      "/global/homes/a/alazar/.conda/envs/fedenv/lib/python3.7/site-packages/sklearn/ensemble/forest.py:245: FutureWarning: The default value of n_estimators will change from 10 in version 0.20 to 100 in 0.22.\n",
      "  \"10 in version 0.20 to 100 in 0.22.\", FutureWarning)\n",
      "/global/homes/a/alazar/.conda/envs/fedenv/lib/python3.7/site-packages/sklearn/ensemble/forest.py:245: FutureWarning: The default value of n_estimators will change from 10 in version 0.20 to 100 in 0.22.\n",
      "  \"10 in version 0.20 to 100 in 0.22.\", FutureWarning)\n",
      "/global/homes/a/alazar/.conda/envs/fedenv/lib/python3.7/site-packages/sklearn/ensemble/forest.py:245: FutureWarning: The default value of n_estimators will change from 10 in version 0.20 to 100 in 0.22.\n",
      "  \"10 in version 0.20 to 100 in 0.22.\", FutureWarning)\n",
      "/global/homes/a/alazar/.conda/envs/fedenv/lib/python3.7/site-packages/sklearn/ensemble/forest.py:245: FutureWarning: The default value of n_estimators will change from 10 in version 0.20 to 100 in 0.22.\n",
      "  \"10 in version 0.20 to 100 in 0.22.\", FutureWarning)\n",
      "/global/homes/a/alazar/.conda/envs/fedenv/lib/python3.7/site-packages/sklearn/ensemble/forest.py:245: FutureWarning: The default value of n_estimators will change from 10 in version 0.20 to 100 in 0.22.\n",
      "  \"10 in version 0.20 to 100 in 0.22.\", FutureWarning)\n",
      "/global/homes/a/alazar/.conda/envs/fedenv/lib/python3.7/site-packages/sklearn/ensemble/forest.py:245: FutureWarning: The default value of n_estimators will change from 10 in version 0.20 to 100 in 0.22.\n",
      "  \"10 in version 0.20 to 100 in 0.22.\", FutureWarning)\n",
      "/global/homes/a/alazar/.conda/envs/fedenv/lib/python3.7/site-packages/sklearn/ensemble/forest.py:245: FutureWarning: The default value of n_estimators will change from 10 in version 0.20 to 100 in 0.22.\n",
      "  \"10 in version 0.20 to 100 in 0.22.\", FutureWarning)\n",
      "/global/homes/a/alazar/.conda/envs/fedenv/lib/python3.7/site-packages/sklearn/ensemble/forest.py:245: FutureWarning: The default value of n_estimators will change from 10 in version 0.20 to 100 in 0.22.\n",
      "  \"10 in version 0.20 to 100 in 0.22.\", FutureWarning)\n",
      "/global/homes/a/alazar/.conda/envs/fedenv/lib/python3.7/site-packages/sklearn/ensemble/forest.py:245: FutureWarning: The default value of n_estimators will change from 10 in version 0.20 to 100 in 0.22.\n",
      "  \"10 in version 0.20 to 100 in 0.22.\", FutureWarning)\n",
      "/global/homes/a/alazar/.conda/envs/fedenv/lib/python3.7/site-packages/sklearn/ensemble/forest.py:245: FutureWarning: The default value of n_estimators will change from 10 in version 0.20 to 100 in 0.22.\n",
      "  \"10 in version 0.20 to 100 in 0.22.\", FutureWarning)\n",
      "/global/homes/a/alazar/.conda/envs/fedenv/lib/python3.7/site-packages/sklearn/ensemble/forest.py:245: FutureWarning: The default value of n_estimators will change from 10 in version 0.20 to 100 in 0.22.\n",
      "  \"10 in version 0.20 to 100 in 0.22.\", FutureWarning)\n",
      "/global/homes/a/alazar/.conda/envs/fedenv/lib/python3.7/site-packages/sklearn/ensemble/forest.py:245: FutureWarning: The default value of n_estimators will change from 10 in version 0.20 to 100 in 0.22.\n",
      "  \"10 in version 0.20 to 100 in 0.22.\", FutureWarning)\n",
      "/global/homes/a/alazar/.conda/envs/fedenv/lib/python3.7/site-packages/sklearn/ensemble/forest.py:245: FutureWarning: The default value of n_estimators will change from 10 in version 0.20 to 100 in 0.22.\n",
      "  \"10 in version 0.20 to 100 in 0.22.\", FutureWarning)\n"
     ]
    },
    {
     "data": {
      "text/plain": [
       "0.8992021789123424"
      ]
     },
     "execution_count": 125,
     "metadata": {},
     "output_type": "execute_result"
    }
   ],
   "source": [
    "# try the same thing with a random forest\n",
    "\n",
    "preprocessing = Pipeline([\n",
    "    (\"scale\", StandardScaler()),\n",
    "])\n",
    "\n",
    "pipeline = Pipeline([\n",
    "    (\"preprocessing\", preprocessing),\n",
    "    (\"classifier\", RandomForestClassifier())\n",
    "])\n",
    "\n",
    "# try varying levels of depth\n",
    "params = {\n",
    "    \"classifier__max_depth\": [None, 3, 5, 10], \n",
    "         }\n",
    "\n",
    "grid = GridSearchCV(pipeline, params)\n",
    "grid.fit(X, y)\n",
    "# best accuracy so far!\n",
    "get_test_accuracy_of(grid.best_estimator_)"
   ]
  },
  {
   "cell_type": "code",
   "execution_count": 126,
   "metadata": {},
   "outputs": [
    {
     "data": {
      "text/plain": [
       "(1339406,)"
      ]
     },
     "execution_count": 126,
     "metadata": {},
     "output_type": "execute_result"
    }
   ],
   "source": [
    "from sklearn.preprocessing import LabelEncoder\n",
    "encoder = LabelEncoder()\n",
    "encoded_y = encoder.fit_transform(y)\n",
    "encoded_y.shape"
   ]
  },
  {
   "cell_type": "code",
   "execution_count": 127,
   "metadata": {},
   "outputs": [
    {
     "data": {
      "text/plain": [
       "array([3, 3, 3, ..., 3, 3, 3])"
      ]
     },
     "execution_count": 127,
     "metadata": {},
     "output_type": "execute_result"
    }
   ],
   "source": [
    "encoded_y"
   ]
  },
  {
   "cell_type": "code",
   "execution_count": 128,
   "metadata": {},
   "outputs": [
    {
     "data": {
      "text/plain": [
       "(1339406, 4)"
      ]
     },
     "execution_count": 128,
     "metadata": {},
     "output_type": "execute_result"
    }
   ],
   "source": [
    "from sklearn.preprocessing import LabelBinarizer\n",
    "binarizer = LabelBinarizer()\n",
    "binarized_y = binarizer.fit_transform(encoded_y)\n",
    "binarized_y.shape"
   ]
  },
  {
   "cell_type": "code",
   "execution_count": 129,
   "metadata": {},
   "outputs": [
    {
     "data": {
      "text/plain": [
       "array([[0, 0, 0, 1],\n",
       "       [0, 0, 0, 1],\n",
       "       [0, 0, 0, 1],\n",
       "       [0, 0, 0, 1],\n",
       "       [0, 0, 0, 1]])"
      ]
     },
     "execution_count": 129,
     "metadata": {},
     "output_type": "execute_result"
    }
   ],
   "source": [
    "binarized_y[:5,]"
   ]
  },
  {
   "cell_type": "code",
   "execution_count": 130,
   "metadata": {},
   "outputs": [
    {
     "data": {
      "text/plain": [
       "0    normal\n",
       "1    normal\n",
       "2    normal\n",
       "3    normal\n",
       "4    normal\n",
       "Name: class, dtype: object"
      ]
     },
     "execution_count": 130,
     "metadata": {},
     "output_type": "execute_result"
    }
   ],
   "source": [
    "y.head()"
   ]
  },
  {
   "cell_type": "code",
   "execution_count": 132,
   "metadata": {},
   "outputs": [
    {
     "name": "stdout",
     "output_type": "stream",
     "text": [
      "['flooding' 'impersonation' 'injection' 'normal']\n",
      "[0 1 2 3]\n"
     ]
    }
   ],
   "source": [
    "print (encoder.classes_)\n",
    "print (binarizer.classes_)"
   ]
  },
  {
   "cell_type": "code",
   "execution_count": 133,
   "metadata": {},
   "outputs": [
    {
     "ename": "ModuleNotFoundError",
     "evalue": "No module named 'keras'",
     "output_type": "error",
     "traceback": [
      "\u001b[0;31m---------------------------------------------------------------------------\u001b[0m",
      "\u001b[0;31mModuleNotFoundError\u001b[0m                       Traceback (most recent call last)",
      "\u001b[0;32m<ipython-input-133-6066a8ab2983>\u001b[0m in \u001b[0;36m<module>\u001b[0;34m\u001b[0m\n\u001b[0;32m----> 1\u001b[0;31m \u001b[0;32mfrom\u001b[0m \u001b[0mkeras\u001b[0m\u001b[0;34m.\u001b[0m\u001b[0mmodels\u001b[0m \u001b[0;32mimport\u001b[0m \u001b[0mSequential\u001b[0m\u001b[0;34m\u001b[0m\u001b[0;34m\u001b[0m\u001b[0m\n\u001b[0m\u001b[1;32m      2\u001b[0m \u001b[0;32mfrom\u001b[0m \u001b[0mkeras\u001b[0m\u001b[0;34m.\u001b[0m\u001b[0mlayers\u001b[0m \u001b[0;32mimport\u001b[0m \u001b[0mDense\u001b[0m\u001b[0;34m\u001b[0m\u001b[0;34m\u001b[0m\u001b[0m\n\u001b[1;32m      3\u001b[0m \u001b[0;32mfrom\u001b[0m \u001b[0mkeras\u001b[0m\u001b[0;34m.\u001b[0m\u001b[0mwrappers\u001b[0m\u001b[0;34m.\u001b[0m\u001b[0mscikit_learn\u001b[0m \u001b[0;32mimport\u001b[0m \u001b[0mKerasClassifier\u001b[0m\u001b[0;34m\u001b[0m\u001b[0;34m\u001b[0m\u001b[0m\n",
      "\u001b[0;31mModuleNotFoundError\u001b[0m: No module named 'keras'"
     ]
    }
   ],
   "source": [
    "from keras.models import Sequential\n",
    "from keras.layers import Dense\n",
    "from keras.wrappers.scikit_learn import KerasClassifier"
   ]
  },
  {
   "cell_type": "code",
   "execution_count": 136,
   "metadata": {},
   "outputs": [
    {
     "ename": "ModuleNotFoundError",
     "evalue": "No module named 'tensorflow'",
     "output_type": "error",
     "traceback": [
      "\u001b[0;31m---------------------------------------------------------------------------\u001b[0m",
      "\u001b[0;31mModuleNotFoundError\u001b[0m                       Traceback (most recent call last)",
      "\u001b[0;32m<ipython-input-136-64156d691fe5>\u001b[0m in \u001b[0;36m<module>\u001b[0;34m\u001b[0m\n\u001b[0;32m----> 1\u001b[0;31m \u001b[0;32mimport\u001b[0m \u001b[0mtensorflow\u001b[0m \u001b[0;32mas\u001b[0m \u001b[0mtf\u001b[0m\u001b[0;34m\u001b[0m\u001b[0;34m\u001b[0m\u001b[0m\n\u001b[0m",
      "\u001b[0;31mModuleNotFoundError\u001b[0m: No module named 'tensorflow'"
     ]
    }
   ],
   "source": [
    "import tensorflow as tf"
   ]
  }
 ],
 "metadata": {
  "kernelspec": {
   "display_name": "Python [conda env:projq]",
   "language": "python",
   "name": "conda-env-projq-py"
  },
  "language_info": {
   "codemirror_mode": {
    "name": "ipython",
    "version": 3
   },
   "file_extension": ".py",
   "mimetype": "text/x-python",
   "name": "python",
   "nbconvert_exporter": "python",
   "pygments_lexer": "ipython3",
   "version": "3.8.1"
  }
 },
 "nbformat": 4,
 "nbformat_minor": 4
}
